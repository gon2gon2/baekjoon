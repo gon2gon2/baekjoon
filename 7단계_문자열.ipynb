{
 "cells": [
  {
   "cell_type": "markdown",
   "metadata": {},
   "source": [
    "# 11654번\n",
    "- ord(문자): 문자에서 아스키 코드로\n",
    "- chr(숫자): 아스키 코드에서 문자로"
   ]
  },
  {
   "cell_type": "code",
   "execution_count": 41,
   "metadata": {
    "scrolled": true
   },
   "outputs": [
    {
     "name": "stdout",
     "output_type": "stream",
     "text": [
      "9\n",
      "57\n"
     ]
    }
   ],
   "source": [
    "x = input()\n",
    "print(ord(x))"
   ]
  },
  {
   "cell_type": "markdown",
   "metadata": {},
   "source": [
    "# 11720번"
   ]
  },
  {
   "cell_type": "code",
   "execution_count": 2,
   "metadata": {},
   "outputs": [
    {
     "name": "stdout",
     "output_type": "stream",
     "text": [
      "5\n",
      "54321\n",
      "15\n"
     ]
    }
   ],
   "source": [
    "n = int(input())\n",
    "N = input()\n",
    "sm = 0\n",
    "for i in range(n):\n",
    "    sm += int(N[i])\n",
    "print(sm)"
   ]
  },
  {
   "cell_type": "markdown",
   "metadata": {},
   "source": [
    "# 10809번"
   ]
  },
  {
   "cell_type": "code",
   "execution_count": 7,
   "metadata": {},
   "outputs": [
    {
     "name": "stdout",
     "output_type": "stream",
     "text": [
      "baekjoon\n",
      "1 0 -1 -1 2 -1 -1 -1 -1 4 3 -1 -1 7 5 -1 -1 -1 -1 -1 -1 -1 -1 -1 -1 -1 \n"
     ]
    }
   ],
   "source": [
    "alphabet = ['a','b','c','d','e','f','g','h','i','j','k','l','m','n','o','p','q','r','s','t','u','v','w','x','y','z']\n",
    "x = input()\n",
    "result =''\n",
    "for i in alphabet:\n",
    "    result += (str(x.find(i))+' ')\n",
    "print(result)"
   ]
  },
  {
   "cell_type": "code",
   "execution_count": 4,
   "metadata": {},
   "outputs": [
    {
     "data": {
      "text/plain": [
       "-1"
      ]
     },
     "execution_count": 4,
     "metadata": {},
     "output_type": "execute_result"
    }
   ],
   "source": [
    "x ='abc'\n",
    "x.find('d')"
   ]
  },
  {
   "cell_type": "markdown",
   "metadata": {},
   "source": [
    "# 2675번"
   ]
  },
  {
   "cell_type": "code",
   "execution_count": 9,
   "metadata": {},
   "outputs": [
    {
     "name": "stdout",
     "output_type": "stream",
     "text": [
      "2\n",
      "3 ABC\n",
      "AAABBBCCC\n",
      "5 /HTP\n",
      "/////HHHHHTTTTTPPPPP\n"
     ]
    }
   ],
   "source": [
    "T = int(input())\n",
    "for i in range(T):\n",
    "    r, s = input().split()\n",
    "    for i in range(len(s)):\n",
    "        print(s[i]*int(r),end='')\n",
    "    print()"
   ]
  },
  {
   "cell_type": "code",
   "execution_count": 12,
   "metadata": {},
   "outputs": [
    {
     "name": "stdout",
     "output_type": "stream",
     "text": [
      "2\n",
      "3 ABC\n",
      "AAABBBCCC\n",
      "5 /HTP\n",
      "/////HHHHHTTTTTPPPPP\n"
     ]
    }
   ],
   "source": [
    "t = int(input())\n",
    "for i in range(t):\n",
    "    r, s = input().split()\n",
    "    p =''\n",
    "    for i in range(len(s)):\n",
    "        p += s[i]*int(r)\n",
    "    print(p)"
   ]
  },
  {
   "cell_type": "markdown",
   "metadata": {},
   "source": [
    "# 1157번"
   ]
  },
  {
   "cell_type": "code",
   "execution_count": 19,
   "metadata": {},
   "outputs": [
    {
     "name": "stdout",
     "output_type": "stream",
     "text": [
      "baaa\n",
      "A\n"
     ]
    }
   ],
   "source": [
    "x = input()\n",
    "xl = x.lower()\n",
    "xlst = list(set(xl))\n",
    "clist = []\n",
    "for i in xlst:\n",
    "    clist.append(xl.count(i))\n",
    "mx = max(clist)\n",
    "if clist.count(mx) >1:\n",
    "    print('?')\n",
    "else:\n",
    "    print(xlst[clist.index(mx)].upper())"
   ]
  },
  {
   "cell_type": "markdown",
   "metadata": {},
   "source": [
    "# 1152번"
   ]
  },
  {
   "cell_type": "code",
   "execution_count": 21,
   "metadata": {},
   "outputs": [
    {
     "name": "stdout",
     "output_type": "stream",
     "text": [
      "The Curious Case of Benjamin Button\n",
      "6\n"
     ]
    }
   ],
   "source": [
    "x = input()\n",
    "print(len(x.split()))"
   ]
  },
  {
   "cell_type": "markdown",
   "metadata": {},
   "source": [
    "# 2908번\n",
    "- list.reverse() : 원본을 바꿈\n",
    "- reversed(Iist) : 뒤집힌 객체를 반환하지만 list_reverseiterator 객체가 반환되므로 list함수를 써줘야 함"
   ]
  },
  {
   "cell_type": "code",
   "execution_count": 47,
   "metadata": {},
   "outputs": [
    {
     "name": "stdout",
     "output_type": "stream",
     "text": [
      "734 893\n"
     ]
    },
    {
     "data": {
      "text/plain": [
       "437"
      ]
     },
     "execution_count": 47,
     "metadata": {},
     "output_type": "execute_result"
    }
   ],
   "source": [
    "x, y = input().split()\n",
    "xr = list(reversed(list(x)))\n",
    "yr = list(reversed(list(y)))\n",
    "xn = ''\n",
    "yn = ''\n",
    "for i in xr:\n",
    "    xn += i\n",
    "for i in yr:\n",
    "    yn += i\n",
    "rl = []\n",
    "print(max(int(xn),int(yn)))"
   ]
  },
  {
   "cell_type": "markdown",
   "metadata": {},
   "source": [
    "# 5622번"
   ]
  },
  {
   "cell_type": "code",
   "execution_count": 64,
   "metadata": {},
   "outputs": [
    {
     "name": "stdout",
     "output_type": "stream",
     "text": [
      "UNUCIC\n",
      "36\n"
     ]
    }
   ],
   "source": [
    "# 입력값의 문자를 하나씩 떼서 dial에서 찾는다.\n",
    "# 찾아서 해당하는 키 값 + 1을 더해준다.\n",
    "dial = {'1': [],\n",
    "       '2':['A','B','C'],\n",
    "       '3': ['D','E','F'],\n",
    "       '4': ['G','H','I'],\n",
    "       '5': ['J','K','L'],\n",
    "       '6': ['M','N','O'],\n",
    "       '7': ['P','Q','R','S'],\n",
    "       '8': ['T','U','V'],\n",
    "       '9': ['W','X','Y','Z']}\n",
    "\n",
    "\n",
    "x = input()\n",
    "ans = 0\n",
    "for i in x:\n",
    "    for j in dial.keys():\n",
    "        if i in dial[j]:\n",
    "            ans = ans + int(j) + 1\n",
    "print(ans)"
   ]
  },
  {
   "cell_type": "markdown",
   "metadata": {},
   "source": [
    "# 2941번"
   ]
  },
  {
   "cell_type": "code",
   "execution_count": 87,
   "metadata": {},
   "outputs": [
    {
     "name": "stdout",
     "output_type": "stream",
     "text": [
      "ljes=njak\n",
      "1\n"
     ]
    }
   ],
   "source": [
    "alp = ['c=','c-','dz=','d-','lj','nj','s=','z=']\n",
    "a = input()\n",
    "b = ''\n",
    "cnt = 0\n",
    "for i in list(a):\n",
    "    b += i\n",
    "    if b in alp:\n",
    "        cnt += 1\n",
    "        b = ''\n",
    "print(cnt)"
   ]
  },
  {
   "cell_type": "code",
   "execution_count": 28,
   "metadata": {},
   "outputs": [
    {
     "data": {
      "text/plain": [
       "'apbfizz1ors'"
      ]
     },
     "execution_count": 28,
     "metadata": {},
     "output_type": "execute_result"
    }
   ],
   "source": [
    "a.replace('123', '')"
   ]
  },
  {
   "cell_type": "code",
   "execution_count": 45,
   "metadata": {},
   "outputs": [
    {
     "name": "stdout",
     "output_type": "stream",
     "text": [
      "nljj\n",
      "nljj\n",
      "['n', 'j']\n",
      "3\n"
     ]
    }
   ],
   "source": [
    "word = input()\n",
    "alp = ['c=','c-','dz=','d-','lj','nj','s=','z=']\n",
    "cnt = 0\n",
    "for i in alp:\n",
    "    if i in word:\n",
    "        print(word)\n",
    "        word = word.split(i)\n",
    "        print(word)\n",
    "#         word.(i)\n",
    "        cnt += 1\n",
    "cnt += len(word)\n",
    "print(cnt)"
   ]
  },
  {
   "cell_type": "code",
   "execution_count": null,
   "metadata": {},
   "outputs": [],
   "source": [
    "word = input()\n",
    "word.split"
   ]
  },
  {
   "cell_type": "code",
   "execution_count": 23,
   "metadata": {},
   "outputs": [
    {
     "name": "stdout",
     "output_type": "stream",
     "text": [
      "apbfizz1ors\n",
      "apbfizz1ors\n"
     ]
    }
   ],
   "source": [
    "a = 'apbfizz1ors'\n",
    "print(a)\n",
    "# a = a.replace('fizz',' ')\n",
    "print(a)"
   ]
  },
  {
   "cell_type": "code",
   "execution_count": null,
   "metadata": {},
   "outputs": [],
   "source": []
  },
  {
   "cell_type": "code",
   "execution_count": 12,
   "metadata": {},
   "outputs": [
    {
     "name": "stdout",
     "output_type": "stream",
     "text": [
      "ljes=njak\n",
      "c=는 0개 있습니다\n",
      "c-는 0개 있습니다\n",
      "dz=는 0개 있습니다\n",
      "d-는 0개 있습니다\n",
      "lj는 1개 있습니다\n",
      "nj는 1개 있습니다\n",
      "s=는 1개 있습니다\n",
      "z=는 0개 있습니다\n",
      "0\n"
     ]
    }
   ],
   "source": [
    "x = input()\n",
    "alp = ['c=','c-','dz=','d-','lj','nj','s=','z=']\n",
    "for i in alp:\n",
    "    cnt= 0\n",
    "    cnt += x.count(i)\n",
    "    print('%s는 %d개 있습니다'%(i,cnt))\n",
    "print(cnt)"
   ]
  },
  {
   "cell_type": "markdown",
   "metadata": {},
   "source": [
    "# 1316번"
   ]
  },
  {
   "cell_type": "code",
   "execution_count": 8,
   "metadata": {},
   "outputs": [
    {
     "name": "stdout",
     "output_type": "stream",
     "text": [
      "4\n",
      "aba\n",
      "abab\n",
      "abcabc\n",
      "a\n",
      "1\n"
     ]
    }
   ],
   "source": [
    "def count_alpha(one_word, full_word):\n",
    "    idx = full_word.index(one_word)\n",
    "    cnt = 0\n",
    "    for i in list(full_word[idx:]):\n",
    "        if i == one_word:\n",
    "            cnt += 1\n",
    "        else:\n",
    "            break\n",
    "    return cnt\n",
    "n = int(input())\n",
    "real_cnt = 0\n",
    "for i in range(n):\n",
    "    word = input()\n",
    "    alphabet = set(word)\n",
    "    alphabet_count_list = []\n",
    "    continue_list = []\n",
    "    for i in alphabet:\n",
    "        alphabet_count_list.append(word.count(i))\n",
    "        continue_list.append(count_alpha(i,word))\n",
    "    final_cnt = 0\n",
    "    for i in range(len(alphabet)):\n",
    "        if alphabet_count_list[i] == continue_list[i]:\n",
    "            final_cnt += 1\n",
    "    if final_cnt == len(alphabet):\n",
    "        real_cnt += 1\n",
    "print(real_cnt)"
   ]
  },
  {
   "cell_type": "code",
   "execution_count": 3,
   "metadata": {},
   "outputs": [
    {
     "data": {
      "text/plain": [
       "1"
      ]
     },
     "execution_count": 3,
     "metadata": {},
     "output_type": "execute_result"
    }
   ],
   "source": [
    "sx = list(x)\n",
    "sx.index('o')"
   ]
  }
 ],
 "metadata": {
  "kernelspec": {
   "display_name": "Python 3",
   "language": "python",
   "name": "python3"
  },
  "language_info": {
   "codemirror_mode": {
    "name": "ipython",
    "version": 3
   },
   "file_extension": ".py",
   "mimetype": "text/x-python",
   "name": "python",
   "nbconvert_exporter": "python",
   "pygments_lexer": "ipython3",
   "version": "3.7.6"
  }
 },
 "nbformat": 4,
 "nbformat_minor": 4
}
